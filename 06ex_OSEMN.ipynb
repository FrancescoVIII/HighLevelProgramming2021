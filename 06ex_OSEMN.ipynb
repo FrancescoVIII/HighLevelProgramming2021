{
 "cells": [
  {
   "cell_type": "code",
   "execution_count": 18,
   "metadata": {},
   "outputs": [],
   "source": [
    "import pandas as pd\n",
    "import numpy as np\n",
    "import csv"
   ]
  },
  {
   "cell_type": "markdown",
   "metadata": {},
   "source": [
    "1\\. Perform the following operations on plain `txt` files:\n",
    "\n",
    "+ create a list of integrer numbers and then save it to a text file named \"data_int.txt\". Run the `cat` command to print the content of the file.\n",
    "+ create a matrix of 5x5 floats and then save it to a text file named \"data_float.txt\". Use the `cat` command to print the content of the file.\n",
    "+ load the txt file of the previous point and convert it to a csv file by hand."
   ]
  },
  {
   "cell_type": "code",
   "execution_count": 19,
   "metadata": {},
   "outputs": [
    {
     "name": "stdout",
     "output_type": "stream",
     "text": [
      "[1, 2, 3, 4, 5, 6]\n",
      "[[8.45674393 5.54040473 1.85077564 1.44000717 1.90645973]\n",
      " [5.4760438  5.71150991 1.98387462 8.43759282 9.29100694]\n",
      " [3.55719421 2.11409793 7.06555081 4.87049764 9.12231666]\n",
      " [6.92523009 9.94001612 4.88814594 8.05067306 4.26573558]\n",
      " [1.29596099 3.56935531 5.10878073 4.64708179 8.90157202]]\n"
     ]
    }
   ],
   "source": [
    "out_file_int = \"data/data_int.txt\"\n",
    "list_int = [1,2,3,4,5,6]\n",
    "with open(out_file_int, 'a') as outfile:\n",
    "    outfile.write(str(list_int)) \n",
    "    \n",
    "#!cat data/data_int.txt  --> This is the command cat for unix users\n",
    "!type C:\\Users\\frego\\Desktop\\HLP\\data\\\"data_int.txt\" \n",
    "\n",
    "    \n",
    "out_file_float = \"data/data_float.txt\"\n",
    "#I create a random matrix of float from 0.5 to 10\n",
    "matrix_float = np.random.uniform(low=0.5, high=10, size=25).reshape((5,5))\n",
    "with open(out_file_float, 'a') as outfile:\n",
    "    outfile.write(str(matrix_float)) \n",
    "\n",
    "!type C:\\Users\\frego\\Desktop\\HLP\\data\\\"data_float.txt\" \n",
    "    \n",
    "read_file = pd.read_csv(r'C:\\Users\\frego\\Desktop\\HLP\\data\\data_float.txt')\n",
    "read_file.to_csv(r'C:\\Users\\frego\\Desktop\\HLP\\data\\data_float.csv', index=None)"
   ]
  },
  {
   "cell_type": "markdown",
   "metadata": {},
   "source": [
    "2\\. Load the file *user_data.json*, which can be found at:\n",
    "\n",
    "- https://www.dropbox.com/s/sz5klcdpckc39hd/user_data.json\n",
    "\n",
    "and filter the data by the \"CreditCardType\" when it equals to \"American Express\". Than save the data to a new CSV file."
   ]
  },
  {
   "cell_type": "code",
   "execution_count": 65,
   "metadata": {},
   "outputs": [],
   "source": [
    "import urllib.request\n",
    "import json \n",
    "import requests\n",
    "\n",
    "url = 'https://www.dropbox.com/s/sz5klcdpckc39hd/user_data.json'\n",
    "\n",
    "response = requests.get(url)\n",
    "response.raise_for_status() \n",
    "\n",
    "#I need to handle the encoding format\n",
    "if (\n",
    "    response.status_code != 204 and\n",
    "    response.headers[\"content-type\"].strip().startswith(\"application/json\")\n",
    "):\n",
    "    try:\n",
    "        data = response.json()\n",
    "    except ValueError:\n",
    "        print(ValueError)\n",
    "        \n",
    "\n",
    "filtered_data = [x for x in data if (x['CreditCardType'] == 'American Express')]\n",
    "\n",
    "read_file = pd.DataFrame(filtered_data)\n",
    "read_file.to_csv (r'C:\\Users\\frego\\Desktop\\HLP\\data\\filtered_CSV.csv', index=None)"
   ]
  },
  {
   "cell_type": "markdown",
   "metadata": {},
   "source": [
    "3\\. Load the file from this url:\n",
    "\n",
    "- https://www.dropbox.com/s/kgshemfgk22iy79/mushrooms_categorized.csv\n",
    "\n",
    "with Pandas. \n",
    "\n",
    "+ explore and print the DataFrame\n",
    "+ calculate, using `groupby()`, the average value of each feature, separately for each class\n",
    "+ save the file in a JSON format."
   ]
  },
  {
   "cell_type": "code",
   "execution_count": 119,
   "metadata": {},
   "outputs": [],
   "source": [
    "#url_csv = \"https://www.dropbox.com/s/kgshemfgk22iy79/mushrooms_categorized.csv\"\n",
    "\n",
    "df = pd.read_csv(\"data/mushrooms_categorized.csv\")\n",
    "\n",
    "gr_class = df.groupby('class').mean()\n",
    "read_file.to_json (r'C:\\Users\\frego\\Desktop\\HLP\\data\\Average_feature_JSON.json')"
   ]
  },
  {
   "cell_type": "markdown",
   "metadata": {},
   "source": [
    "4\\. Get the binary file named *credit_card.dat* from this address:\n",
    "\n",
    "- https://www.dropbox.com/s/8m0syw2tkul3dap/credit_card.dat\n",
    "\n",
    "and convert the data into the real credit card number, knowing that:\n",
    "- each line corresponds to a credit card number, which consists of 16 characters (which are numbers in the 0-9 range) divided in 4 blocks, with a whitespace between each block\n",
    "- each character is written using a 6 bit binary representation (including the whitespace)\n",
    "- the final 4 bits of each line are a padding used to determine the end of the line, and can be ignored\n",
    "\n",
    "*Hint*: convert the binary numbers to the decimal representation first, and then use the `chr()` function to convert the latter to a char"
   ]
  },
  {
   "cell_type": "code",
   "execution_count": null,
   "metadata": {},
   "outputs": [],
   "source": []
  },
  {
   "cell_type": "markdown",
   "metadata": {},
   "source": [
    "5\\. **Optional**: load the remote file:\n",
    "\n",
    "- https://www.dropbox.com/s/aamg1apjhclecka/regression_generated.csv\n",
    "\n",
    "with Pandas and create a scatter plot with all possible combinations of the following features:\n",
    "    \n",
    "  + features_1\n",
    "  + features_2\n",
    "  + features_3"
   ]
  },
  {
   "cell_type": "code",
   "execution_count": null,
   "metadata": {},
   "outputs": [],
   "source": []
  }
 ],
 "metadata": {
  "kernelspec": {
   "display_name": "Python 3 (ipykernel)",
   "language": "python",
   "name": "python3"
  },
  "language_info": {
   "codemirror_mode": {
    "name": "ipython",
    "version": 3
   },
   "file_extension": ".py",
   "mimetype": "text/x-python",
   "name": "python",
   "nbconvert_exporter": "python",
   "pygments_lexer": "ipython3",
   "version": "3.9.7"
  }
 },
 "nbformat": 4,
 "nbformat_minor": 2
}
