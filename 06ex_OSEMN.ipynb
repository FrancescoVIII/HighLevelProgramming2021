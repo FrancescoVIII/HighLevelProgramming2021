{
 "cells": [
  {
   "cell_type": "code",
   "execution_count": 3,
   "metadata": {},
   "outputs": [],
   "source": [
    "import pandas as pd\n",
    "import numpy as np\n",
    "import csv"
   ]
  },
  {
   "cell_type": "markdown",
   "metadata": {},
   "source": [
    "1\\. Perform the following operations on plain `txt` files:\n",
    "\n",
    "+ create a list of integrer numbers and then save it to a text file named \"data_int.txt\". Run the `cat` command to print the content of the file.\n",
    "+ create a matrix of 5x5 floats and then save it to a text file named \"data_float.txt\". Use the `cat` command to print the content of the file.\n",
    "+ load the txt file of the previous point and convert it to a csv file by hand."
   ]
  },
  {
   "cell_type": "code",
   "execution_count": 4,
   "metadata": {},
   "outputs": [
    {
     "name": "stdout",
     "output_type": "stream",
     "text": [
      "[1, 2, 3, 4, 5, 6]\n",
      "[[3.42305237 5.98496046 1.07966151 8.91752691 7.5890655 ]\n",
      " [0.97008928 7.07601174 9.05980613 5.46591452 9.56025857]\n",
      " [9.47223551 8.15475296 6.48385518 7.50267588 6.92022329]\n",
      " [8.04267382 8.46506342 0.99585437 7.23975891 8.99255192]\n",
      " [9.71062833 6.05600023 5.38014667 6.54802134 1.01976314]]\n"
     ]
    }
   ],
   "source": [
    "out_file_int = \"data/data_int.txt\"\n",
    "list_int = [1,2,3,4,5,6]\n",
    "with open(out_file_int, 'a') as outfile:\n",
    "    outfile.write(str(list_int)) \n",
    "    \n",
    "#!cat data/data_int.txt  --> This is the command cat for unix users\n",
    "!type data\\\"data_int.txt\" \n",
    "\n",
    "    \n",
    "out_file_float = \"data/data_float.txt\"\n",
    "#I create a random matrix of float from 0.5 to 10\n",
    "matrix_float = np.random.uniform(low=0.5, high=10, size=25).reshape((5,5))\n",
    "with open(out_file_float, 'a') as outfile:\n",
    "    outfile.write(str(matrix_float)) \n",
    "\n",
    "!type data\\\"data_float.txt\" \n",
    "    \n",
    "read_file = pd.read_csv(r'data\\data_float.txt')\n",
    "read_file.to_csv(r'data\\data_float.csv', index=None)"
   ]
  },
  {
   "cell_type": "markdown",
   "metadata": {},
   "source": [
    "2\\. Load the file *user_data.json*, which can be found at:\n",
    "\n",
    "- https://www.dropbox.com/s/sz5klcdpckc39hd/user_data.json\n",
    "\n",
    "and filter the data by the \"CreditCardType\" when it equals to \"American Express\". Than save the data to a new CSV file."
   ]
  },
  {
   "cell_type": "code",
   "execution_count": 16,
   "metadata": {},
   "outputs": [],
   "source": [
    "import urllib.request\n",
    "import json \n",
    "import requests\n",
    "\n",
    "#------The following code is not the correct answare, I need to find a way to read the file directlu with the url\n",
    "file = 'data/user_data.json'\n",
    "f = open(file)\n",
    "data = json.load(f)\n",
    "#------\n",
    "        \n",
    "filtered_data = [x for x in data if (x['CreditCardType'] == 'American Express')]\n",
    "read_file = pd.DataFrame(filtered_data)\n",
    "read_file.to_csv (r'data\\filtered_CSV.csv', index=None)"
   ]
  },
  {
   "cell_type": "markdown",
   "metadata": {},
   "source": [
    "3\\. Load the file from this url:\n",
    "\n",
    "- https://www.dropbox.com/s/kgshemfgk22iy79/mushrooms_categorized.csv\n",
    "\n",
    "with Pandas. \n",
    "\n",
    "+ explore and print the DataFrame\n",
    "+ calculate, using `groupby()`, the average value of each feature, separately for each class\n",
    "+ save the file in a JSON format."
   ]
  },
  {
   "cell_type": "code",
   "execution_count": 17,
   "metadata": {},
   "outputs": [],
   "source": [
    "#url_csv = \"https://www.dropbox.com/s/kgshemfgk22iy79/mushrooms_categorized.csv\"\n",
    "\n",
    "#------The following code is not the correct answare, I need to find a way to read the file directlu with the url\n",
    "df = pd.read_csv(\"data/mushrooms_categorized.csv\")\n",
    "#------\n",
    "\n",
    "\n",
    "gr_class = df.groupby('class').mean()\n",
    "read_file.to_json (r'data\\Average_feature_JSON.json')"
   ]
  },
  {
   "cell_type": "markdown",
   "metadata": {},
   "source": [
    "4\\. Get the binary file named *credit_card.dat* from this address:\n",
    "\n",
    "- https://www.dropbox.com/s/8m0syw2tkul3dap/credit_card.dat\n",
    "\n",
    "and convert the data into the real credit card number, knowing that:\n",
    "- each line corresponds to a credit card number, which consists of 16 characters (which are numbers in the 0-9 range) divided in 4 blocks, with a whitespace between each block\n",
    "- each character is written using a 6 bit binary representation (including the whitespace)\n",
    "- the final 4 bits of each line are a padding used to determine the end of the line, and can be ignored\n",
    "\n",
    "*Hint*: convert the binary numbers to the decimal representation first, and then use the `chr()` function to convert the latter to a char"
   ]
  },
  {
   "cell_type": "code",
   "execution_count": 38,
   "metadata": {},
   "outputs": [
    {
     "name": "stdout",
     "output_type": "stream",
     "text": [
      "55\n",
      "54\n",
      "52\n",
      "56\n",
      "White space\n",
      "107\n",
      "45\n",
      "47\n",
      "39\n",
      "White space\n",
      "79\n",
      "31\n",
      "31\n",
      "22\n",
      "White space\n",
      "22\n",
      "22\n",
      "62\n",
      "13\n",
      "White space\n",
      "121\n",
      "26\n",
      "59\n",
      "48\n",
      "White space\n",
      "50\n",
      "52\n",
      "55\n",
      "32\n",
      "White space\n",
      "103\n",
      "43\n",
      "41\n",
      "1\n",
      "White space\n",
      "75\n",
      "27\n",
      "26\n"
     ]
    },
    {
     "ename": "ValueError",
     "evalue": "invalid literal for int() with base 2: '10\\n110'",
     "output_type": "error",
     "traceback": [
      "\u001b[1;31m---------------------------------------------------------------------------\u001b[0m",
      "\u001b[1;31mValueError\u001b[0m                                Traceback (most recent call last)",
      "\u001b[1;32m<ipython-input-38-df8f0e96cd8a>\u001b[0m in \u001b[0;36m<module>\u001b[1;34m\u001b[0m\n\u001b[0;32m     12\u001b[0m         \u001b[1;32melse\u001b[0m\u001b[1;33m:\u001b[0m\u001b[1;33m\u001b[0m\u001b[1;33m\u001b[0m\u001b[0m\n\u001b[0;32m     13\u001b[0m             \u001b[0mCHUNK_SIZE\u001b[0m \u001b[1;33m=\u001b[0m \u001b[1;36m6\u001b[0m\u001b[1;33m\u001b[0m\u001b[1;33m\u001b[0m\u001b[0m\n\u001b[1;32m---> 14\u001b[1;33m             \u001b[0mnum\u001b[0m \u001b[1;33m=\u001b[0m \u001b[0mint\u001b[0m\u001b[1;33m(\u001b[0m\u001b[0mchunk\u001b[0m\u001b[1;33m,\u001b[0m \u001b[1;36m2\u001b[0m\u001b[1;33m)\u001b[0m\u001b[1;33m\u001b[0m\u001b[1;33m\u001b[0m\u001b[0m\n\u001b[0m\u001b[0;32m     15\u001b[0m             \u001b[0mcount\u001b[0m \u001b[1;33m+=\u001b[0m \u001b[1;36m1\u001b[0m\u001b[1;33m\u001b[0m\u001b[1;33m\u001b[0m\u001b[0m\n\u001b[0;32m     16\u001b[0m             \u001b[0mprint\u001b[0m\u001b[1;33m(\u001b[0m\u001b[0mnum\u001b[0m\u001b[1;33m)\u001b[0m\u001b[1;33m\u001b[0m\u001b[1;33m\u001b[0m\u001b[0m\n",
      "\u001b[1;31mValueError\u001b[0m: invalid literal for int() with base 2: '10\\n110'"
     ]
    }
   ],
   "source": [
    "dat_file = r\"data\\credit_card.dat\"   \n",
    "\n",
    "count = 1\n",
    "CHUNK_SIZE = 6\n",
    "with open(dat_file) as f:\n",
    "    chunk = f.read(CHUNK_SIZE)\n",
    "    while chunk:\n",
    "        if (count == 5):\n",
    "            CHUNK_SIZE = 7\n",
    "            count = 1\n",
    "            print(\"White space\")\n",
    "        else:\n",
    "            CHUNK_SIZE = 6\n",
    "            num = int(chunk, 2)\n",
    "            count += 1\n",
    "            print(num)\n",
    "        chunk = f.read(CHUNK_SIZE)"
   ]
  },
  {
   "cell_type": "markdown",
   "metadata": {},
   "source": [
    "5\\. **Optional**: load the remote file:\n",
    "\n",
    "- https://www.dropbox.com/s/aamg1apjhclecka/regression_generated.csv\n",
    "\n",
    "with Pandas and create a scatter plot with all possible combinations of the following features:\n",
    "    \n",
    "  + features_1\n",
    "  + features_2\n",
    "  + features_3"
   ]
  },
  {
   "cell_type": "code",
   "execution_count": null,
   "metadata": {},
   "outputs": [],
   "source": []
  }
 ],
 "metadata": {
  "kernelspec": {
   "display_name": "Python 3",
   "language": "python",
   "name": "python3"
  },
  "language_info": {
   "codemirror_mode": {
    "name": "ipython",
    "version": 3
   },
   "file_extension": ".py",
   "mimetype": "text/x-python",
   "name": "python",
   "nbconvert_exporter": "python",
   "pygments_lexer": "ipython3",
   "version": "3.8.3"
  }
 },
 "nbformat": 4,
 "nbformat_minor": 2
}
