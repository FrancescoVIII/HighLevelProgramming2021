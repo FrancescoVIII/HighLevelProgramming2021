{
 "cells": [
  {
   "cell_type": "markdown",
   "metadata": {},
   "source": [
    "1\\. Write a function that converts numbers among the bin, dec, and hex representations (bin<->dec<->hex)"
   ]
  },
  {
   "cell_type": "code",
   "execution_count": 3,
   "metadata": {},
   "outputs": [
    {
     "name": "stdout",
     "output_type": "stream",
     "text": [
      "Hex number in input:\n",
      "Binary representation: 0b101000100000001\n",
      "Hexadecimal representation: 0x5101\n",
      "Decimal representation: 20737\n",
      "\n",
      "\n",
      "Bin number in input:\n",
      "Binary representation: 0b1110\n",
      "Hexadecimal representation: 0xe\n",
      "Decimal representation: 0b1111010\n",
      "\n",
      "\n",
      "Dec number in input:\n",
      "Binary representation: 0b1111010\n",
      "Hexadecimal representation: 0x7a\n",
      "Decimal representation: 122\n"
     ]
    }
   ],
   "source": [
    "import sys\n",
    "\n",
    "def binDecHex(x):\n",
    "    x_bin = bin(x)\n",
    "    x_hex = hex(x)\n",
    "    x_dec = int(x)\n",
    "    return x_bin, x_hex, x_dec\n",
    "\n",
    "x = 0x5101\n",
    "y = 0b01110\n",
    "z = 122\n",
    "\n",
    "a, b, c = binDecHex(x)\n",
    "\n",
    "d, e, f = binDecHex(y)\n",
    "\n",
    "f, g, h = binDecHex(z)\n",
    "\n",
    "print(\"Hex number in input:\")\n",
    "print(\"Binary representation: \" + a)\n",
    "print(\"Hexadecimal representation: \" + b)\n",
    "print(\"Decimal representation: \" + str(c))\n",
    "print(\"\\n\")\n",
    "print(\"Bin number in input:\")\n",
    "print(\"Binary representation: \" + d)\n",
    "print(\"Hexadecimal representation: \" + e)\n",
    "print(\"Decimal representation: \" + str(f))\n",
    "print(\"\\n\")\n",
    "print(\"Dec number in input:\")\n",
    "print(\"Binary representation: \" + f)\n",
    "print(\"Hexadecimal representation: \" + g)\n",
    "print(\"Decimal representation: \" + str(h))"
   ]
  },
  {
   "cell_type": "markdown",
   "metadata": {},
   "source": [
    "2\\. Write a function that converts a 32 bit word into a single precision floating point (i.e. interprets the various bits as sign, mantissa and exponent) and check its validity."
   ]
  },
  {
   "cell_type": "code",
   "execution_count": 4,
   "metadata": {},
   "outputs": [
    {
     "name": "stdout",
     "output_type": "stream",
     "text": [
      "Sign: 0\n",
      "Exponent: 10001001\n",
      "Mantissa00100000100000010000000\n",
      "Decimal exponent: 10\n",
      "Decimal mantissa: 1.1269683837890625\n",
      "The final number is: 1154.015625\n"
     ]
    }
   ],
   "source": [
    "def convert2float(x):\n",
    "    \n",
    "    if (len(x) != 32):\n",
    "        print(\"Word not valid, please insert a 32 bit word!\")\n",
    "        \n",
    "    signBin = x[0] #Split the parts\n",
    "    exBin = x[1:9]\n",
    "    mantBin = x[9:]\n",
    "    \n",
    "    print(\"Sign: \" + str(signBin))\n",
    "    print(\"Exponent: \" + str(exBin))\n",
    "    print(\"Mantissa\" + str(mantBin))\n",
    "    \n",
    "    sign = int(signBin)\n",
    "    exp = int(exBin, 2) - 127\n",
    "      \n",
    "    mant = 1\n",
    "    for i in range(len(mantBin)):\n",
    "        mant += 2**(-(i+1))*int(mantBin[i],2)\n",
    "        \n",
    "    print(\"Decimal exponent: \" + str(exp))\n",
    "    print(\"Decimal mantissa: \" + str(mant))\n",
    "        \n",
    "    num = (-1)**sign * (mant*2**exp)\n",
    "    \n",
    "    return num\n",
    "        \n",
    "word = \"01000100100100000100000010000000\"\n",
    "\n",
    "num = convert2float(word)\n",
    "\n",
    "print(\"The final number is: \" + str(num))\n",
    "    \n",
    "    "
   ]
  },
  {
   "cell_type": "markdown",
   "metadata": {},
   "source": [
    "3\\. Write a program to determine the underflow and overflow limits (within a factor of 2) for python on your computer. \n",
    "\n",
    "**Tip**: define two variables initialized to 1 and halve/double them for a sufficient amount of times to exceed the under/over-flow limits  "
   ]
  },
  {
   "cell_type": "code",
   "execution_count": 23,
   "metadata": {},
   "outputs": [
    {
     "name": "stdout",
     "output_type": "stream",
     "text": [
      "The underflow is: 4.94066e-324\n",
      "The overflow is: 8.98847e+307\n"
     ]
    }
   ],
   "source": [
    "from IPython.display import clear_output\n",
    "\n",
    "under = 1\n",
    "over = 1\n",
    "\n",
    "\n",
    "while True:\n",
    "    if (under == 0): break\n",
    "    under_pre = under       #I use this memory variable to store the previous value.\n",
    "    under = under/2\n",
    "\n",
    "\n",
    "while True:\n",
    "    try:\n",
    "        clear_output(wait=True)\n",
    "        over_pre = over\n",
    "        over = over*2\n",
    "        print(\"%2.5e\"%over)  \n",
    "    except OverflowError as e:\n",
    "        break\n",
    "              \n",
    "\n",
    "print(\"The underflow is: \" + \"%2.5e\"%under_pre )\n",
    "print(\"The overflow is: \" + \"%2.5e\"%over_pre)  \n",
    "\n",
    "   \n"
   ]
  },
  {
   "cell_type": "markdown",
   "metadata": {},
   "source": [
    "4\\. Write a program to determine the machine precision\n",
    "\n",
    "**Tip**: define a new variable by adding an increasingly smaller value (in the same way as the previous problem) and check when the addition starts to have no effect on the number"
   ]
  },
  {
   "cell_type": "code",
   "execution_count": 28,
   "metadata": {},
   "outputs": [
    {
     "name": "stdout",
     "output_type": "stream",
     "text": [
      "The precision is in the order of: 1e-16\n"
     ]
    }
   ],
   "source": [
    "precision = 1\n",
    "addSmallValue = 1\n",
    "N = 53 #increase until failure \n",
    "\n",
    "while True:\n",
    "    addSmallValue += 1\n",
    "    precision = 1 + 10**-addSmallValue\n",
    "    if (precision == 1): \n",
    "        break\n",
    "    \n",
    "\n",
    "print(\"The precision is in the order of: \" + str(10**-addSmallValue))\n",
    "    "
   ]
  },
  {
   "cell_type": "markdown",
   "metadata": {},
   "source": [
    "5\\. Write a function that takes in input three parameters $a$, $b$ and $c$ and prints out the two solutions to the quadratic equation $ax^2+bx+c=0$ using the standard formula:\n",
    "$$\n",
    "x=\\frac{-b\\pm\\sqrt{b^2-4ac}}{2a}\n",
    "$$\n",
    "\n",
    "(a) use the program to compute the solution for $a=0.001$, $b=1000$ and $c=0.001$\n",
    "\n",
    "(b) re-express the standard solution formula by multiplying the numerator and the denominator by $-b\\mp\\sqrt{b^2-4ac}$ and again find the solution for $a=0.001$, $b=1000$ and $c=0.001$. How does it compare with what has been previously obtained, and why?\n",
    "\n",
    "(c) write a function that computes the roots of a quadratic equation accurately in all cases"
   ]
  },
  {
   "cell_type": "code",
   "execution_count": 30,
   "metadata": {},
   "outputs": [
    {
     "name": "stdout",
     "output_type": "stream",
     "text": [
      "Results for 1st case: \n",
      "-1.0000010000226212\n",
      "-999998.999999\n",
      "\n",
      "\n",
      "Results for 2nd case: \n",
      "-1.000001000022621\n",
      "-999998.9999989998\n",
      "As we have seen in previous exercise the precision is in the order of 10^-16, \n",
      " if we exceed it we loose some informations\n",
      "\n",
      "\n",
      "Results for 3rd case: \n",
      "-1.0000010000226212\n",
      "-999998.999999\n",
      "Splitting the operations Python is able to store all the informatons properly\n"
     ]
    }
   ],
   "source": [
    "import math as m\n",
    "\n",
    "def quadFunction(a,b,c):\n",
    "    x1 = (-b + m.sqrt(b**2 - 4 * a * b))/(2 * a)\n",
    "    x2 = (-b - m.sqrt(b**2 - 4 * a * b))/(2 * a)\n",
    "    \n",
    "    return(x1,x2)\n",
    "\n",
    "def quadFunction_modified(a,b,c):\n",
    "    molt1 = -b + m.sqrt(b**2 - 4 * a * b)\n",
    "    molt2 = -b - m.sqrt(b**2 - 4 * a * b)\n",
    "    x1 = ((-b + m.sqrt(b**2 - 4 * a * b)) * molt2)/((2 * a) * molt2)\n",
    "    x2 = ((-b - m.sqrt(b**2 - 4 * a * b)) * molt1)/((2 * a) * molt1)\n",
    "    \n",
    "    return(x1,x2)\n",
    "\n",
    "def quadFunction_modified_final(a, b, c):\n",
    "    molt1 = -b + m.sqrt(b**2 - 4 * a * b)\n",
    "    molt2 = -b - m.sqrt(b**2 - 4 * a * b)\n",
    "    \n",
    "    delta = b**2 - 4 * a * b\n",
    "    \n",
    "    x1 = ((-b + m.sqrt(delta)))/((2 * a))\n",
    "    x2 = ((-b - m.sqrt(delta)))/((2 * a))\n",
    "    \n",
    "    x1_bis = x1 * molt2\n",
    "    x1 = x1_bis / molt2\n",
    "    \n",
    "    x2_bis = x2 * molt1\n",
    "    x2 = x2_bis / molt1\n",
    "    \n",
    "    return(x1,x2)\n",
    "\n",
    "x1 = 0\n",
    "x2 = 0\n",
    "\n",
    "x1, x2 = quadFunction(0.001,1000,0.001)\n",
    "print(\"Results for 1st case: \")\n",
    "print(x1)\n",
    "print(x2)\n",
    "print(\"\\n\")                        \n",
    "x1, x2 = quadFunction_modified(0.001,1000,0.001)\n",
    "print(\"Results for 2nd case: \")\n",
    "print(x1)\n",
    "print(x2)\n",
    "print(\"As we have seen in previous exercise the precision is in the order of 10^-16, \\n if we exceed it we loose some informations\")\n",
    "print(\"\\n\")  \n",
    "x1, x2 = quadFunction_modified_final(0.001,1000,0.001)\n",
    "print(\"Results for 3rd case: \")\n",
    "print(x1)\n",
    "print(x2)\n",
    "print(\"Splitting the operations Python is able to store all the informatons properly\")\n",
    "               "
   ]
  },
  {
   "cell_type": "markdown",
   "metadata": {},
   "source": [
    "6\\. Write a program that implements the function $f(x)=x(x−1)$\n",
    "\n",
    "(a) Calculate the derivative of the function at the point $x = 1$ using the derivative definition:\n",
    "\n",
    "$$\n",
    "\\frac{{\\rm d}f}{{\\rm d}x} = \\lim_{\\delta\\to0} \\frac{f(x+\\delta)-f(x)}{\\delta}\n",
    "$$\n",
    "\n",
    "with $\\delta = 10^{−2}$. Calculate the true value of the same derivative analytically and compare it with the answer your program gives. The two will not agree perfectly. Why?\n",
    "\n",
    "(b) Repeat the calculation for $\\delta = 10^{−4}, 10^{−6}, 10^{−8}, 10^{−10}, 10^{−12}$ and $10^{−14}$. How does the accuracy scales with $\\delta$?"
   ]
  },
  {
   "cell_type": "code",
   "execution_count": 34,
   "metadata": {},
   "outputs": [
    {
     "name": "stdout",
     "output_type": "stream",
     "text": [
      "Real derivate in x=1: 1\n",
      "\n",
      "\n",
      "Derivate for delta=10^-2: 1.010000000000001\n",
      "The analytical derivate has delta that tend to zero\n",
      "\n",
      "\n",
      "Derivate for delta=10^-4: 1.0000999999998899\n",
      "Derivate for delta=10^-6: 1.0000009999177333\n",
      "Derivate for delta=10^-8: 1.0000000039225287\n",
      "Derivate for delta=10^-10: 1.000000082840371\n",
      "Derivate for delta=10^-12: 1.0000889005833413\n",
      "Derivate for delta=10^-14: 0.9992007221626509\n",
      "Derivate for delta=10^-20: 0.0\n",
      "We can find out that in this way is quite impossible to achive the real result, if we decrease to much delta \n",
      " we will go out of the precision and we get 0\n"
     ]
    }
   ],
   "source": [
    "from sympy import *\n",
    "\n",
    "def f_x(x):\n",
    "    fx = x*(x-1)\n",
    "    return fx\n",
    "\n",
    "def derivate(func,x,delta):\n",
    "    return ((func(x+delta) - func(x))/delta)\n",
    "\n",
    "def derivate_limit(func,x):\n",
    "    delta = symbols('delta')\n",
    "    return limit(((func(x+delta) - func(x))/delta),delta,0)\n",
    "\n",
    "der = derivate(f_x,1,10**-2)\n",
    "\n",
    "\n",
    "print(\"Real derivate in x=1: \" + str(derivate_limit(f_x,1)))\n",
    "print(\"\\n\")\n",
    "print(\"Derivate for delta=10^-2: \" + str(der))\n",
    "print(\"The analytical derivate has delta that tend to zero\")\n",
    "print(\"\\n\")\n",
    "for i in [4, 6, 8, 10, 12, 14, 20]:\n",
    "    print(\"Derivate for delta=10^-\"+ str(i) + \": \" + str(derivate(f_x,1,10**-i)))\n",
    "    \n",
    "print(\"We can find out that in this way is quite impossible to achive the real result, if we decrease to much delta \\n \" \n",
    "      + \"we will go out of the precision and we get 0\")\n"
   ]
  },
  {
   "cell_type": "markdown",
   "metadata": {},
   "source": [
    "7\\. Consider the integral of the semicircle of radius 1:\n",
    "$$\n",
    "I=\\int_{-1}^{1} \\sqrt(1-x^2) {\\rm d}x\n",
    "$$\n",
    "which is known to be $I=\\frac{\\pi}{2}=1.57079632679...$.\n",
    "\n",
    "Alternatively we can use the Riemann definition of the integral:\n",
    "$$\n",
    "I=\\lim_{N\\to\\infty} \\sum_{k=1}^{N} h y_k \n",
    "$$\n",
    "\n",
    "with $h=2/N$ the width of each of the $N$ slices the domain is divided into and where\n",
    "$y_k$ is the value of the function at the $k-$th slice.\n",
    "\n",
    "(a) Write a program to compute the integral with $N=100$. How does the result compare to the true value?\n",
    "\n",
    "(b) How much can $N$ be increased if the computation needs to be run in less than a second? What is the gain in running it for 1 minute? \n"
   ]
  },
  {
   "cell_type": "code",
   "execution_count": 35,
   "metadata": {},
   "outputs": [
    {
     "name": "stdout",
     "output_type": "stream",
     "text": [
      "Integral with N=100: 1.5691342555492493\n",
      "The result is a bit different respect to the real value, obviusly making the silicies smaller we will achive \n",
      " a better results.\n",
      "\n",
      "\n",
      "Integral with N: 140000000 with result: 1.5707963274383914 calculated in: 60.1495156288147 seconds\n",
      "As I said before in 1 minute we have smaller silicies and so better precision, anyway the result still miss some accuracyin that we should restrict over and over the silicies, but we will impact with the same precision problem\n"
     ]
    }
   ],
   "source": [
    "import math as m\n",
    "import time\n",
    "\n",
    "def f_xI(x):\n",
    "    return m.sqrt(1-x**2)\n",
    "\n",
    "def integral_semiCircle(N):\n",
    "    st_t = time.time() #Strat time\n",
    "    sum = 0\n",
    "    h = 2/N\n",
    "    st_p = -1 #Start point\n",
    "    for i in range(1,N+1):\n",
    "        \n",
    "        sum += (h*f_xI(st_p))\n",
    "        st_p += h\n",
    "    f_t = time.time() - st_t #Total time\n",
    "    return sum, f_t\n",
    "\n",
    "def maxN():\n",
    "    N = 10000000\n",
    "    while True:\n",
    "        I_N, t_N = integral_semiCircle(N)\n",
    "        if(t_N >= 60):\n",
    "            return I_N, t_N, N\n",
    "        N += 1000000 \n",
    "\n",
    "I_100, t_100 = integral_semiCircle(100)\n",
    "print(\"Integral with N=100: \" + str(I_100)) #Time needed is irrilevant\n",
    "print(\"The result is a bit different respect to the real value, obviusly making the silicies smaller we will achive \\n \"\n",
    "     + \"a better results.\")\n",
    "print(\"\\n\")\n",
    "\n",
    "I_N, t_N, N = maxN()\n",
    "print(\"Integral with N: \" + str(N) + \" with result: \" + str(I_N) + \" calculated in: \" + str(t_N) + \" seconds\") \n",
    "print(\"As I said before in 1 minute we have smaller silicies and so better precision, anyway the result still miss some accuracy\"\n",
    "     + \"in that we should restrict over and over the silicies, but we will impact with the same precision problem\")\n"
   ]
  },
  {
   "cell_type": "code",
   "execution_count": null,
   "metadata": {},
   "outputs": [],
   "source": []
  }
 ],
 "metadata": {
  "kernelspec": {
   "display_name": "Python 3",
   "language": "python",
   "name": "python3"
  },
  "language_info": {
   "codemirror_mode": {
    "name": "ipython",
    "version": 3
   },
   "file_extension": ".py",
   "mimetype": "text/x-python",
   "name": "python",
   "nbconvert_exporter": "python",
   "pygments_lexer": "ipython3",
   "version": "3.8.3"
  }
 },
 "nbformat": 4,
 "nbformat_minor": 2
}
