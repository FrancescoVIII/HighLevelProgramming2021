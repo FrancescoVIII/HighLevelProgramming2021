{
 "cells": [
  {
   "cell_type": "code",
   "execution_count": null,
   "metadata": {},
   "outputs": [],
   "source": []
  },
  {
   "cell_type": "markdown",
   "metadata": {},
   "source": [
    "1. The HelloWorld replacement\n",
    "\n",
    "a) Write a program that prints the numbers from 1 to 100. But for multiples of three print \"Hello\" instead of the number and for the multiples of five print \"World\". For numbers which are multiples of both three and five print \"HelloWorld\".\n",
    "\n",
    "b) Put the result in a tuple and substitute \"Hello\" with \"Python\" and \"World\" with \"Works\"."
   ]
  },
  {
   "cell_type": "code",
   "execution_count": 1,
   "metadata": {},
   "outputs": [
    {
     "name": "stdout",
     "output_type": "stream",
     "text": [
      "1\n",
      "2\n",
      "Hello\n",
      "4\n",
      "World\n",
      "Hello\n",
      "7\n",
      "8\n",
      "Hello\n",
      "World\n",
      "11\n",
      "Hello\n",
      "13\n",
      "14\n",
      "Hello World\n",
      "16\n",
      "17\n",
      "Hello\n",
      "19\n",
      "World\n",
      "Hello\n",
      "22\n",
      "23\n",
      "Hello\n",
      "World\n",
      "26\n",
      "Hello\n",
      "28\n",
      "29\n",
      "Hello World\n",
      "31\n",
      "32\n",
      "Hello\n",
      "34\n",
      "World\n",
      "Hello\n",
      "37\n",
      "38\n",
      "Hello\n",
      "World\n",
      "41\n",
      "Hello\n",
      "43\n",
      "44\n",
      "Hello World\n",
      "46\n",
      "47\n",
      "Hello\n",
      "49\n",
      "World\n",
      "Hello\n",
      "52\n",
      "53\n",
      "Hello\n",
      "World\n",
      "56\n",
      "Hello\n",
      "58\n",
      "59\n",
      "Hello World\n",
      "61\n",
      "62\n",
      "Hello\n",
      "64\n",
      "World\n",
      "Hello\n",
      "67\n",
      "68\n",
      "Hello\n",
      "World\n",
      "71\n",
      "Hello\n",
      "73\n",
      "74\n",
      "Hello World\n",
      "76\n",
      "77\n",
      "Hello\n",
      "79\n",
      "World\n",
      "Hello\n",
      "82\n",
      "83\n",
      "Hello\n",
      "World\n",
      "86\n",
      "Hello\n",
      "88\n",
      "89\n",
      "Hello World\n",
      "91\n",
      "92\n",
      "Hello\n",
      "94\n",
      "World\n",
      "Hello\n",
      "97\n",
      "98\n",
      "Hello\n",
      "World\n",
      "(1, 2, 'Python', 4, 'Works', 'Python', 7, 8, 'Python', 'Works', 11, 'Python', 13, 14, 'Hello world', 16, 17, 'Python', 19, 'Works', 'Python', 22, 23, 'Python', 'Works', 26, 'Python', 28, 29, 'Hello world', 31, 32, 'Python', 34, 'Works', 'Python', 37, 38, 'Python', 'Works', 41, 'Python', 43, 44, 'Hello world', 46, 47, 'Python', 49, 'Works', 'Python', 52, 53, 'Python', 'Works', 56, 'Python', 58, 59, 'Hello world', 61, 62, 'Python', 64, 'Works', 'Python', 67, 68, 'Python', 'Works', 71, 'Python', 73, 74, 'Hello world', 76, 77, 'Python', 79, 'Works', 'Python', 82, 83, 'Python', 'Works', 86, 'Python', 88, 89, 'Hello world', 91, 92, 'Python', 94, 'Works', 'Python', 97, 98, 'Python', 'Works')\n"
     ]
    }
   ],
   "source": [
    "tup = ()\n",
    "for i in range(1,101): \n",
    "    rem1 = i%3\n",
    "    rem2 = i%5\n",
    "    if rem1 == 0 and rem2 != 0:\n",
    "        a = (\"Hello\")\n",
    "        tup += (\"Hello\",)\n",
    "    elif rem1 != 0 and rem2 == 0:\n",
    "        a =  (\"World\")\n",
    "        tup += (\"World\",)\n",
    "    elif rem1 == 0 and rem2 == 0:\n",
    "        a = (\"Hello World\")\n",
    "        tup += (\"Hello world\",)\n",
    "    else:\n",
    "        a = (i)\n",
    "        tup += (i,)\n",
    "    \n",
    "    print (a)\n",
    "    \n",
    "list_change = list(tup)  #The tuples object are not changable, so I need to use a list\n",
    "newTup = ()\n",
    "for i in range(len(list_change)):\n",
    "    if list_change[i] == \"Hello\":\n",
    "        newTup += (list_change[i].replace('Hello','Python'),)\n",
    "    elif list_change[i] == \"World\":\n",
    "        newTup += (list_change[i].replace('World','Works'),)\n",
    "    else:\n",
    "        newTup += (list_change[i],)\n",
    "        \n",
    "print(newTup)"
   ]
  },
  {
   "cell_type": "markdown",
   "metadata": {},
   "source": [
    "2\\. The swap function\n",
    "\n",
    "Write a function that swap the values of two input variables x and y (whatever the type). Try to do that also without a temporary variable"
   ]
  },
  {
   "cell_type": "code",
   "execution_count": 2,
   "metadata": {},
   "outputs": [
    {
     "name": "stdout",
     "output_type": "stream",
     "text": [
      "x, y:\n",
      "100 Hello\n",
      "Swap with temporary variable, x, y:\n",
      "Hello 100\n",
      "a, b:\n",
      "55 world\n",
      "Swap without temporary variable, a, b:\n",
      "world 55\n"
     ]
    }
   ],
   "source": [
    "x = 100\n",
    "y = \"Hello\"\n",
    "\n",
    "a = 55\n",
    "b = \"world\"\n",
    "\n",
    "print(\"x, y:\")\n",
    "print(x,y)\n",
    "\n",
    "temp = y #Swap with temporary variable\n",
    "y = x\n",
    "x = temp\n",
    "\n",
    "print(\"Swap with temporary variable, x, y:\")\n",
    "print(x,y)\n",
    "\n",
    "print(\"a, b:\")\n",
    "print(a,b)\n",
    "\n",
    "a, b = b, a #Swap without temporary variable\n",
    "\n",
    "print(\"Swap without temporary variable, a, b:\")\n",
    "print(a,b)\n",
    "\n"
   ]
  },
  {
   "cell_type": "markdown",
   "metadata": {},
   "source": [
    "3\\. Computing the distance\n",
    "\n",
    "Write a function that calculates and returns the euclidean distance between two points *u* and *v*, where *u* and *v* are both 2-tuples *(x,y)*. For example, if *u=(3,0)* and *v=(0,4)*, the function should return 5"
   ]
  },
  {
   "cell_type": "code",
   "execution_count": 3,
   "metadata": {},
   "outputs": [
    {
     "name": "stdout",
     "output_type": "stream",
     "text": [
      "5.0\n"
     ]
    }
   ],
   "source": [
    "import numpy\n",
    "def distance(u,v):\n",
    "    try:\n",
    "        c1 = v[0]-u[0]\n",
    "        c2 = v[1]-v[0]\n",
    "        dd = c1*c1 + c2*c2\n",
    "        d = numpy.sqrt(dd)\n",
    "        print(d)\n",
    "        \n",
    "    except:\n",
    "        print(\"Invalid input\")\n",
    "        \n",
    "    \n",
    "u = (3,0)\n",
    "v = (0,4)\n",
    "\n",
    "distance(u,v)\n",
    "    "
   ]
  },
  {
   "cell_type": "markdown",
   "metadata": {},
   "source": [
    "4\\. Counting letters\n",
    "\n",
    "Write a program to calculate the number of times each character occurs in a given string *s*. Ignore differences in capitalization"
   ]
  },
  {
   "cell_type": "code",
   "execution_count": 4,
   "metadata": {},
   "outputs": [
    {
     "name": "stdout",
     "output_type": "stream",
     "text": [
      "W occurs 4 times\n",
      "I occurs 12 times\n",
      "G occurs 1 times\n",
      "F occurs 10 times\n",
      "B occurs 5 times\n",
      "E occurs 20 times\n",
      "D occurs 5 times\n",
      "N occurs 10 times\n",
      "S occurs 7 times\n",
      "A occurs 7 times\n",
      ". occurs 3 times\n",
      "M occurs 8 times\n",
      "R occurs 19 times\n",
      "0 occurs 2 times\n",
      "V occurs 2 times\n",
      "L occurs 12 times\n",
      "1 occurs 2 times\n",
      "O occurs 15 times\n",
      "H occurs 11 times\n",
      "U occurs 7 times\n",
      "P occurs 8 times\n",
      "C occurs 1 times\n",
      "T occurs 19 times\n"
     ]
    }
   ],
   "source": [
    "s = \"Write a program that prints the numbers from 1 to 100. \\\n",
    "But for multiples of three print Hello instead of the number and for the multiples of five print World. \\\n",
    "For numbers which are multiples of both three and five print HelloWorld.\"\n",
    "\n",
    "\n",
    "S = s.upper() \n",
    "sset = set()\n",
    "\n",
    "for i in S:           #I have used a set because the duplicates are not allowed.\n",
    "    if i != \" \":\n",
    "        sset.add(i)   #I will not count the space.\n",
    "    \n",
    "for j in sset:\n",
    "    \n",
    "    count = 0\n",
    "    \n",
    "    for k in S:\n",
    "        \n",
    "        if j == k:\n",
    "            count = count + 1\n",
    "            \n",
    "    print(str(j) + \" occurs \" + str(count) + \" times\")\n",
    "\n",
    "    "
   ]
  },
  {
   "cell_type": "markdown",
   "metadata": {},
   "source": [
    "5\\. Isolating the unique\n",
    "\n",
    "Write a function that determines and count the unique numbers in the list:"
   ]
  },
  {
   "cell_type": "code",
   "execution_count": 38,
   "metadata": {},
   "outputs": [
    {
     "name": "stdout",
     "output_type": "stream",
     "text": [
      "There are 37 unique numbers:\n",
      "[ 1  3  5  8  9 10 16 18 19 20 24 30 31 33 34 36 37 39 41 42 45 47 50 51\n",
      " 53 54 55 56 57 58 63 64 66 70 72 74 75 79 81 82 84 85 86 87 88 89 90 91\n",
      " 92 94 95 96 98 99]\n"
     ]
    }
   ],
   "source": [
    "l = [36, 45, 58, 3, 74, 96, 64, 45, 31, 10, 24, 19, 33, 86, 99, 18, 63, 70, 85,\n",
    " 85, 63, 47, 56, 42, 70, 84, 88, 55, 20, 54, 8, 56, 51, 79, 81, 57, 37, 91,\n",
    " 1, 84, 84, 36, 66, 9, 89, 50, 42, 91, 50, 95, 90, 98, 39, 16, 82, 31, 92, 41,\n",
    " 45, 30, 66, 70, 34, 85, 94, 5, 3, 36, 72, 91, 84, 34, 87, 75, 53, 51, 20, 89, 51, 20]\n",
    "\n",
    "def countUnique(k):\n",
    "    values, counts = numpy.unique(k, return_counts=True) #This function returns two vectors, values will contain all the numbers\n",
    "    n = 0                                                #counted one time, counts tell us how many time they appear in the list\n",
    "    list0 = []\n",
    "    for h in values:\n",
    "        list0.append(float(h))\n",
    "        \n",
    "    for i in values:\n",
    "        if counts[n] != 1:                               #Here I remove the numbers that appear more than one time, in this way\n",
    "            list0.remove(i)                              #I can count the unique numbers               \n",
    "        n = n + 1\n",
    "    \n",
    "    print(\"There are \"+str(len(list0))+\" unique numbers:\")\n",
    "    print(values)\n",
    "\n",
    "\n",
    "countUnique(l)\n"
   ]
  },
  {
   "cell_type": "markdown",
   "metadata": {},
   "source": [
    "Do the same without using user-defined functions, but exploiting only the Python data structures."
   ]
  },
  {
   "cell_type": "code",
   "execution_count": 5,
   "metadata": {},
   "outputs": [
    {
     "name": "stdout",
     "output_type": "stream",
     "text": [
      "There are 37 unique numbers:\n",
      "[1, 5, 8, 9, 10, 16, 18, 19, 24, 30, 33, 37, 39, 41, 47, 53, 54, 55, 57, 58, 64, 72, 74, 75, 79, 81, 82, 86, 87, 88, 90, 92, 94, 95, 96, 98, 99]\n"
     ]
    }
   ],
   "source": [
    "l = [36, 45, 58, 3, 74, 96, 64, 45, 31, 10, 24, 19, 33, 86, 99, 18, 63, 70, 85,\n",
    " 85, 63, 47, 56, 42, 70, 84, 88, 55, 20, 54, 8, 56, 51, 79, 81, 57, 37, 91,\n",
    " 1, 84, 84, 36, 66, 9, 89, 50, 42, 91, 50, 95, 90, 98, 39, 16, 82, 31, 92, 41,\n",
    " 45, 30, 66, 70, 34, 85, 94, 5, 3, 36, 72, 91, 84, 34, 87, 75, 53, 51, 20, 89, 51, 20]\n",
    "\n",
    "def cUnique(x):\n",
    "    sset0 = set()\n",
    "    list1 = []\n",
    "    n = 0\n",
    "    for i in x:\n",
    "        sset0.add(i)  #In a set the duplicates are not allowed, so to have the vector values like before is sufficient add the\n",
    "                      #elements.\n",
    "    for j in sset0:\n",
    "        count = 0\n",
    "        for k in x:\n",
    "            if k == j:\n",
    "                count = count + 1 \n",
    "        if count == 1:\n",
    "            list1.append(j)\n",
    "    \n",
    "    print(\"There are \"+str(len(list1))+\" unique numbers:\")\n",
    "    print(list1)\n",
    "\n",
    "        \n",
    "    \n",
    "\n",
    "cUnique(l)\n"
   ]
  },
  {
   "cell_type": "markdown",
   "metadata": {},
   "source": [
    "6\\. Combination of functions\n",
    "\n",
    "Write two functions - one that returns the square of a number, and one that returns the cube. Now write a third function that returns the number raised to the 6th power using the two previous functions."
   ]
  },
  {
   "cell_type": "code",
   "execution_count": 6,
   "metadata": {},
   "outputs": [
    {
     "name": "stdout",
     "output_type": "stream",
     "text": [
      "729\n"
     ]
    }
   ],
   "source": [
    "def square(k):\n",
    "    k = k*k\n",
    "    return k\n",
    "\n",
    "def cube(k):\n",
    "    k = k*k*k\n",
    "    return k\n",
    "\n",
    "def sixthPower(k):\n",
    "    k = k*square(k)*cube(k)\n",
    "    return k\n",
    "\n",
    "a = 3\n",
    "\n",
    "print(sixthPower(a))"
   ]
  },
  {
   "cell_type": "markdown",
   "metadata": {},
   "source": [
    "7\\. Cubes\n",
    "\n",
    "Create a list of the cubes of x for x in *[0, 10]* using:\n",
    "\n",
    "a) a for loop\n",
    "\n",
    "b) a list comprehension"
   ]
  },
  {
   "cell_type": "code",
   "execution_count": 7,
   "metadata": {},
   "outputs": [
    {
     "name": "stdout",
     "output_type": "stream",
     "text": [
      "a) a for loop:\n",
      "[0, 1, 8, 27, 64, 125, 216, 343, 512, 729]\n",
      "b) a list comprehension:\n",
      "[0, 1, 8, 27, 64, 125, 216, 343, 512, 729]\n"
     ]
    }
   ],
   "source": [
    "new_list0 = []\n",
    "\n",
    "for i in range(10):\n",
    "    new_list0.append(cube(i))\n",
    "    \n",
    "print(\"a) a for loop:\")\n",
    "print(new_list0)\n",
    "\n",
    "new_list1 = [cube(i) for i in range(10)]\n",
    "\n",
    "print(\"b) a list comprehension:\")\n",
    "print(new_list1)"
   ]
  },
  {
   "cell_type": "markdown",
   "metadata": {},
   "source": [
    "8\\. Nested list comprehension\n",
    "\n",
    "A Pythagorean triple is an integer solution to the Pythagorean theorem $a^2+b^2=c^2$. The first Pythagorean triple is (3,4,5). Find and put in a tuple all unique Pythagorean triples for the positive integers a, b and c less than 100."
   ]
  },
  {
   "cell_type": "code",
   "execution_count": 8,
   "metadata": {},
   "outputs": [
    {
     "name": "stdout",
     "output_type": "stream",
     "text": [
      "[(3, 4, 5), (4, 3, 5), (5, 12, 13), (6, 8, 10), (7, 24, 25), (8, 6, 10), (8, 15, 17), (9, 12, 15), (9, 40, 41), (10, 24, 26), (11, 60, 61), (12, 5, 13), (12, 9, 15), (12, 16, 20), (12, 35, 37), (13, 84, 85), (14, 48, 50), (15, 8, 17), (15, 20, 25), (15, 36, 39), (16, 12, 20), (16, 30, 34), (16, 63, 65), (18, 24, 30), (18, 80, 82), (20, 15, 25), (20, 21, 29), (20, 48, 52), (21, 20, 29), (21, 28, 35), (21, 72, 75), (24, 7, 25), (24, 10, 26), (24, 18, 30), (24, 32, 40), (24, 45, 51), (24, 70, 74), (25, 60, 65), (27, 36, 45), (28, 21, 35), (28, 45, 53), (28, 96, 100), (30, 16, 34), (30, 40, 50), (30, 72, 78), (32, 24, 40), (32, 60, 68), (33, 44, 55), (33, 56, 65), (35, 12, 37), (35, 84, 91), (36, 15, 39), (36, 27, 45), (36, 48, 60), (36, 77, 85), (39, 52, 65), (39, 80, 89), (40, 9, 41), (40, 30, 50), (40, 42, 58), (40, 75, 85), (42, 40, 58), (42, 56, 70), (44, 33, 55), (45, 24, 51), (45, 28, 53), (45, 60, 75), (48, 14, 50), (48, 20, 52), (48, 36, 60), (48, 55, 73), (48, 64, 80), (51, 68, 85), (52, 39, 65), (54, 72, 90), (55, 48, 73), (56, 33, 65), (56, 42, 70), (57, 76, 95), (60, 11, 61), (60, 25, 65), (60, 32, 68), (60, 45, 75), (60, 63, 87), (60, 80, 100), (63, 16, 65), (63, 60, 87), (64, 48, 80), (65, 72, 97), (68, 51, 85), (70, 24, 74), (72, 21, 75), (72, 30, 78), (72, 54, 90), (72, 65, 97), (75, 40, 85), (76, 57, 95), (77, 36, 85), (80, 18, 82), (80, 39, 89), (80, 60, 100), (84, 13, 85), (84, 35, 91), (96, 28, 100)]\n"
     ]
    }
   ],
   "source": [
    "i = 0 \n",
    "PythSolution = []\n",
    "\n",
    "while i <= 100:\n",
    "    a = i\n",
    "    j = 0\n",
    "    while j <= 100:\n",
    "        b = j\n",
    "        k = 0\n",
    "        while k <= 100:\n",
    "            c = k\n",
    "            if a*a + b*b == c*c and a!=0 and b!=0 and c!=0: \n",
    "                PythSolution.append((a,b,c))\n",
    "            k += 1\n",
    "        j += 1\n",
    "    i += 1\n",
    "    \n",
    "\n",
    "print(PythSolution)"
   ]
  },
  {
   "cell_type": "markdown",
   "metadata": {},
   "source": [
    "9\\. Normalization\n",
    "\n",
    "Write a function that takes a tuple of numbers and returns it with the entries normalized to one"
   ]
  },
  {
   "cell_type": "code",
   "execution_count": 9,
   "metadata": {},
   "outputs": [
    {
     "name": "stdout",
     "output_type": "stream",
     "text": [
      "(0.3922322702763681, 0.3922322702763681, 0.7844645405527362, 0.19611613513818404, 0.19611613513818404)\n"
     ]
    }
   ],
   "source": [
    "import numpy\n",
    "def normalization(a):\n",
    "    sum = 0\n",
    "    new_a = ()\n",
    "    \n",
    "    for i in a:\n",
    "        sum = sum + i*i\n",
    "    \n",
    "    for i in a:\n",
    "        new_a = new_a + (i/numpy.sqrt(sum),)\n",
    "        \n",
    "        \n",
    "    return new_a\n",
    "\n",
    "a = (4, 4, 8, 2, 2)\n",
    "\n",
    "print(normalization(a))"
   ]
  },
  {
   "cell_type": "code",
   "execution_count": null,
   "metadata": {},
   "outputs": [],
   "source": []
  }
 ],
 "metadata": {
  "kernelspec": {
   "display_name": "Python 3",
   "language": "python",
   "name": "python3"
  },
  "language_info": {
   "codemirror_mode": {
    "name": "ipython",
    "version": 3
   },
   "file_extension": ".py",
   "mimetype": "text/x-python",
   "name": "python",
   "nbconvert_exporter": "python",
   "pygments_lexer": "ipython3",
   "version": "3.8.3"
  }
 },
 "nbformat": 4,
 "nbformat_minor": 2
}
