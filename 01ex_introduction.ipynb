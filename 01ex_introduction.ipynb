{
 "cells": [
  {
   "cell_type": "code",
   "execution_count": null,
   "metadata": {},
   "outputs": [],
   "source": []
  },
  {
   "cell_type": "markdown",
   "metadata": {},
   "source": [
    "1. The HelloWorld replacement\n",
    "\n",
    "a) Write a program that prints the numbers from 1 to 100. But for multiples of three print \"Hello\" instead of the number and for the multiples of five print \"World\". For numbers which are multiples of both three and five print \"HelloWorld\".\n",
    "\n",
    "b) Put the result in a tuple and substitute \"Hello\" with \"Python\" and \"World\" with \"Works\"."
   ]
  },
  {
   "cell_type": "code",
   "execution_count": 3,
   "metadata": {},
   "outputs": [
    {
     "name": "stdout",
     "output_type": "stream",
     "text": [
      "1\n",
      "2\n",
      "Python\n",
      "4\n",
      "Works\n",
      "Python\n",
      "7\n",
      "8\n",
      "Python\n",
      "Works\n",
      "11\n",
      "Python\n",
      "13\n",
      "14\n",
      "Hello World\n",
      "16\n",
      "17\n",
      "Python\n",
      "19\n",
      "Works\n",
      "Python\n",
      "22\n",
      "23\n",
      "Python\n",
      "Works\n",
      "26\n",
      "Python\n",
      "28\n",
      "29\n",
      "Hello World\n",
      "31\n",
      "32\n",
      "Python\n",
      "34\n",
      "Works\n",
      "Python\n",
      "37\n",
      "38\n",
      "Python\n",
      "Works\n",
      "41\n",
      "Python\n",
      "43\n",
      "44\n",
      "Hello World\n",
      "46\n",
      "47\n",
      "Python\n",
      "49\n",
      "Works\n",
      "Python\n",
      "52\n",
      "53\n",
      "Python\n",
      "Works\n",
      "56\n",
      "Python\n",
      "58\n",
      "59\n",
      "Hello World\n",
      "61\n",
      "62\n",
      "Python\n",
      "64\n",
      "Works\n",
      "Python\n",
      "67\n",
      "68\n",
      "Python\n",
      "Works\n",
      "71\n",
      "Python\n",
      "73\n",
      "74\n",
      "Hello World\n",
      "76\n",
      "77\n",
      "Python\n",
      "79\n",
      "Works\n",
      "Python\n",
      "82\n",
      "83\n",
      "Python\n",
      "Works\n",
      "86\n",
      "Python\n",
      "88\n",
      "89\n",
      "Hello World\n",
      "91\n",
      "92\n",
      "Python\n",
      "94\n",
      "Works\n",
      "Python\n",
      "97\n",
      "98\n",
      "Python\n",
      "Works\n"
     ]
    }
   ],
   "source": [
    "for i in range(1,101): \n",
    "    rem1 = i%3\n",
    "    rem2 = i%5\n",
    "    if rem1 == 0 and rem2 != 0:\n",
    "        a = (\"Python\")\n",
    "    elif rem1 != 0 and rem2 == 0:\n",
    "        a =  (\"Works\")\n",
    "    elif rem1 == 0 and rem2 == 0:\n",
    "        a = (\"Hello World\")\n",
    "    else:\n",
    "        a = (i) \n",
    "    \n",
    "    print (a)"
   ]
  },
  {
   "cell_type": "markdown",
   "metadata": {},
   "source": [
    "2\\. The swap function\n",
    "\n",
    "Write a function that swap the values of two input variables x and y (whatever the type). Try to do that also without a temporary variable"
   ]
  },
  {
   "cell_type": "code",
   "execution_count": 7,
   "metadata": {},
   "outputs": [
    {
     "name": "stdout",
     "output_type": "stream",
     "text": [
      "x, y:\n",
      "100 Hello\n",
      "Swap with temporary variable, x, y:\n",
      "Hello 100\n",
      "a, b:\n",
      "55 world\n",
      "Swap without temporary variable, a, b:\n",
      "world 55\n"
     ]
    }
   ],
   "source": [
    "x = 100\n",
    "y = \"Hello\"\n",
    "\n",
    "a = 55\n",
    "b = \"world\"\n",
    "\n",
    "print(\"x, y:\")\n",
    "print(x,y)\n",
    "\n",
    "temp = y #Swap with temporary variable\n",
    "y = x\n",
    "x = temp\n",
    "\n",
    "print(\"Swap with temporary variable, x, y:\")\n",
    "print(x,y)\n",
    "\n",
    "print(\"a, b:\")\n",
    "print(a,b)\n",
    "\n",
    "a, b = b, a #Swap without temporary variable\n",
    "\n",
    "print(\"Swap without temporary variable, a, b:\")\n",
    "print(a,b)\n",
    "\n"
   ]
  },
  {
   "cell_type": "markdown",
   "metadata": {},
   "source": [
    "3\\. Computing the distance\n",
    "\n",
    "Write a function that calculates and returns the euclidean distance between two points *u* and *v*, where *u* and *v* are both 2-tuples *(x,y)*. For example, if *u=(3,0)* and *v=(0,4)*, the function should return 5"
   ]
  },
  {
   "cell_type": "code",
   "execution_count": 24,
   "metadata": {},
   "outputs": [
    {
     "name": "stdout",
     "output_type": "stream",
     "text": [
      "5.0\n"
     ]
    }
   ],
   "source": [
    "import numpy\n",
    "def distance(u,v):\n",
    "    try:\n",
    "        c1 = v[0]-u[0]\n",
    "        c2 = v[1]-v[0]\n",
    "        dd = c1*c1 + c2*c2\n",
    "        d = numpy.sqrt(dd)\n",
    "        print(d)\n",
    "        \n",
    "    except:\n",
    "        print(\"Invalid input\")\n",
    "        \n",
    "    \n",
    "u = (3,0)\n",
    "v = (0,4)\n",
    "\n",
    "distance(u,v)\n",
    "    "
   ]
  },
  {
   "cell_type": "markdown",
   "metadata": {},
   "source": [
    "4\\. Counting letters\n",
    "\n",
    "Write a program to calculate the number of times each character occurs in a given string *s*. Ignore differences in capitalization"
   ]
  },
  {
   "cell_type": "code",
   "execution_count": 60,
   "metadata": {},
   "outputs": [
    {
     "name": "stdout",
     "output_type": "stream",
     "text": [
      "H occurs 11 times\n",
      "0 occurs 2 times\n",
      "1 occurs 2 times\n",
      "L occurs 12 times\n",
      "M occurs 8 times\n",
      "F occurs 10 times\n",
      "  occurs 41 times\n",
      "A occurs 7 times\n",
      "C occurs 1 times\n",
      "R occurs 19 times\n",
      "V occurs 2 times\n",
      "P occurs 8 times\n",
      "S occurs 7 times\n",
      "I occurs 12 times\n",
      "G occurs 1 times\n",
      "U occurs 7 times\n",
      "B occurs 5 times\n",
      "N occurs 10 times\n",
      "E occurs 20 times\n",
      "D occurs 5 times\n",
      "T occurs 19 times\n",
      "W occurs 4 times\n",
      ". occurs 3 times\n",
      "O occurs 15 times\n"
     ]
    }
   ],
   "source": [
    "s = \"Write a program that prints the numbers from 1 to 100. \\\n",
    "But for multiples of three print Hello instead of the number and for the multiples of five print World. \\\n",
    "For numbers which are multiples of both three and five print HelloWorld.\"\n",
    "\n",
    "\n",
    "S = s.upper() \n",
    "\n",
    "\n",
    "for i in S:           #I have used a set because the duplicates are not allowed\n",
    "    if i != \" \":\n",
    "        d.add(i)\n",
    "    \n",
    "for j in d:\n",
    "    \n",
    "    count = 0\n",
    "    \n",
    "    for k in S:\n",
    "        \n",
    "        if j == k:\n",
    "            count = count + 1\n",
    "            \n",
    "    print(str(j) + \" occurs \" + str(count) + \" times\")\n",
    "\n",
    "    "
   ]
  },
  {
   "cell_type": "markdown",
   "metadata": {},
   "source": [
    "5\\. Isolating the unique\n",
    "\n",
    "Write a function that determines and count the unique numbers in the list:"
   ]
  },
  {
   "cell_type": "code",
   "execution_count": 72,
   "metadata": {},
   "outputs": [
    {
     "name": "stdout",
     "output_type": "stream",
     "text": [
      "There are 40 unique numbers:\n",
      "[1, 5, 8, 9, 10, 16, 18, 19, 20, 30, 31, 33, 36, 37, 41, 45, 47, 50, 51, 54, 56, 57, 63, 66, 70, 72, 74, 79, 81, 82, 85, 86, 88, 90, 91, 92, 94, 95, 96, 98]\n"
     ]
    }
   ],
   "source": [
    "l = [36, 45, 58, 3, 74, 96, 64, 45, 31, 10, 24, 19, 33, 86, 99, 18, 63, 70, 85,\n",
    " 85, 63, 47, 56, 42, 70, 84, 88, 55, 20, 54, 8, 56, 51, 79, 81, 57, 37, 91,\n",
    " 1, 84, 84, 36, 66, 9, 89, 50, 42, 91, 50, 95, 90, 98, 39, 16, 82, 31, 92, 41,\n",
    " 45, 30, 66, 70, 34, 85, 94, 5, 3, 36, 72, 91, 84, 34, 87, 75, 53, 51, 20, 89, 51, 20]\n",
    "\n",
    "def countUnique(k):\n",
    "    values, counts = numpy.unique(k, return_counts=True)\n",
    "    n = 0\n",
    "    values = list(values)\n",
    "    for i in values:\n",
    "        if counts[n] != 1:\n",
    "            values.remove(i)\n",
    "        n = n + 1\n",
    "    \n",
    "    print(\"There are \"+str(len(values))+\" unique numbers:\")\n",
    "    print(values)\n",
    "\n",
    "\n",
    "countUnique(l)\n",
    "\n",
    "#To do the same using only Python data structores I can add all the "
   ]
  },
  {
   "cell_type": "markdown",
   "metadata": {},
   "source": [
    "Do the same without using user-defined functions, but exploiting only the Python data structures."
   ]
  },
  {
   "cell_type": "markdown",
   "metadata": {},
   "source": [
    "6\\. Combination of functions\n",
    "\n",
    "Write two functions - one that returns the square of a number, and one that returns the cube. Now write a third function that returns the number raised to the 6th power using the two previous functions."
   ]
  },
  {
   "cell_type": "code",
   "execution_count": 6,
   "metadata": {},
   "outputs": [
    {
     "name": "stdout",
     "output_type": "stream",
     "text": [
      "729\n"
     ]
    }
   ],
   "source": [
    "def square(k):\n",
    "    k = k*k\n",
    "    return k\n",
    "\n",
    "def cube(k):\n",
    "    k = k*k*k\n",
    "    return k\n",
    "\n",
    "def sixthPower(k):\n",
    "    k = k*square(k)*cube(k)\n",
    "    return k\n",
    "\n",
    "a = 3\n",
    "\n",
    "print(sixthPower(a))"
   ]
  },
  {
   "cell_type": "markdown",
   "metadata": {},
   "source": [
    "7\\. Cubes\n",
    "\n",
    "Create a list of the cubes of x for x in *[0, 10]* using:\n",
    "\n",
    "a) a for loop\n",
    "\n",
    "b) a list comprehension"
   ]
  },
  {
   "cell_type": "code",
   "execution_count": null,
   "metadata": {},
   "outputs": [],
   "source": []
  },
  {
   "cell_type": "markdown",
   "metadata": {},
   "source": [
    "8\\. Nested list comprehension\n",
    "\n",
    "A Pythagorean triple is an integer solution to the Pythagorean theorem $a^2+b^2=c^2$. The first Pythagorean triple is (3,4,5). Find and put in a tuple all unique Pythagorean triples for the positive integers a, b and c less than 100."
   ]
  },
  {
   "cell_type": "code",
   "execution_count": 36,
   "metadata": {},
   "outputs": [
    {
     "name": "stdout",
     "output_type": "stream",
     "text": [
      "[(3, 4, 5), (4, 3, 5), (5, 12, 13), (6, 8, 10), (7, 24, 25), (8, 6, 10), (8, 15, 17), (9, 12, 15), (9, 40, 41), (10, 24, 26), (11, 60, 61), (12, 5, 13), (12, 9, 15), (12, 16, 20), (12, 35, 37), (13, 84, 85), (14, 48, 50), (15, 8, 17), (15, 20, 25), (15, 36, 39), (16, 12, 20), (16, 30, 34), (16, 63, 65), (18, 24, 30), (18, 80, 82), (20, 15, 25), (20, 21, 29), (20, 48, 52), (21, 20, 29), (21, 28, 35), (21, 72, 75), (24, 7, 25), (24, 10, 26), (24, 18, 30), (24, 32, 40), (24, 45, 51), (24, 70, 74), (25, 60, 65), (27, 36, 45), (28, 21, 35), (28, 45, 53), (28, 96, 100), (30, 16, 34), (30, 40, 50), (30, 72, 78), (32, 24, 40), (32, 60, 68), (33, 44, 55), (33, 56, 65), (35, 12, 37), (35, 84, 91), (36, 15, 39), (36, 27, 45), (36, 48, 60), (36, 77, 85), (39, 52, 65), (39, 80, 89), (40, 9, 41), (40, 30, 50), (40, 42, 58), (40, 75, 85), (42, 40, 58), (42, 56, 70), (44, 33, 55), (45, 24, 51), (45, 28, 53), (45, 60, 75), (48, 14, 50), (48, 20, 52), (48, 36, 60), (48, 55, 73), (48, 64, 80), (51, 68, 85), (52, 39, 65), (54, 72, 90), (55, 48, 73), (56, 33, 65), (56, 42, 70), (57, 76, 95), (60, 11, 61), (60, 25, 65), (60, 32, 68), (60, 45, 75), (60, 63, 87), (60, 80, 100), (63, 16, 65), (63, 60, 87), (64, 48, 80), (65, 72, 97), (68, 51, 85), (70, 24, 74), (72, 21, 75), (72, 30, 78), (72, 54, 90), (72, 65, 97), (75, 40, 85), (76, 57, 95), (77, 36, 85), (80, 18, 82), (80, 39, 89), (80, 60, 100), (84, 13, 85), (84, 35, 91), (96, 28, 100)]\n"
     ]
    }
   ],
   "source": [
    "i = 0 \n",
    "PythSolution = []\n",
    "\n",
    "while i <= 100:\n",
    "    a = i\n",
    "    j = 0\n",
    "    while j <= 100:\n",
    "        b = j\n",
    "        k = 0\n",
    "        while k <= 100:\n",
    "            c = k\n",
    "            if a*a + b*b == c*c and a!=0 and b!=0 and c!=0: \n",
    "                PythSolution.append((a,b,c))\n",
    "            k = k + 1\n",
    "        j = j + 1\n",
    "    i = i + 1\n",
    "    \n",
    "print(PythSolution)"
   ]
  },
  {
   "cell_type": "markdown",
   "metadata": {},
   "source": [
    "9\\. Normalization\n",
    "\n",
    "Write a function that takes a tuple of numbers and returns it with the entries normalized to one"
   ]
  },
  {
   "cell_type": "code",
   "execution_count": 25,
   "metadata": {},
   "outputs": [
    {
     "name": "stdout",
     "output_type": "stream",
     "text": [
      "(0.0949157995752499, 0.1898315991504998, 0.2847473987257497, 0.3796631983009996, 0.8542421961772492)\n"
     ]
    }
   ],
   "source": [
    "import numpy\n",
    "def normalization(a):\n",
    "    sum = 0\n",
    "    new_a = ()\n",
    "    \n",
    "    for i in a:\n",
    "        sum = sum + i*i\n",
    "    \n",
    "    for i in a:\n",
    "        new_a = new_a + (i/numpy.sqrt(sum),)\n",
    "        \n",
    "        \n",
    "    return new_a\n",
    "\n",
    "a = (1, 2, 3, 4, 9)\n",
    "\n",
    "print(normalization(a))"
   ]
  },
  {
   "cell_type": "code",
   "execution_count": null,
   "metadata": {},
   "outputs": [],
   "source": []
  }
 ],
 "metadata": {
  "kernelspec": {
   "display_name": "Python 3",
   "language": "python",
   "name": "python3"
  },
  "language_info": {
   "codemirror_mode": {
    "name": "ipython",
    "version": 3
   },
   "file_extension": ".py",
   "mimetype": "text/x-python",
   "name": "python",
   "nbconvert_exporter": "python",
   "pygments_lexer": "ipython3",
   "version": "3.8.3"
  }
 },
 "nbformat": 4,
 "nbformat_minor": 2
}
